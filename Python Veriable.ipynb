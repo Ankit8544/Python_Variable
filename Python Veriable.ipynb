{
 "cells": [
  {
   "cell_type": "code",
   "execution_count": 1,
   "id": "3885f11d-4890-49ee-b626-fa6a5ca4c34a",
   "metadata": {},
   "outputs": [],
   "source": [
    "a = 1"
   ]
  },
  {
   "cell_type": "code",
   "execution_count": 2,
   "id": "4c708e03-7f3b-4a82-8049-5606f099a7d9",
   "metadata": {},
   "outputs": [
    {
     "data": {
      "text/plain": [
       "1"
      ]
     },
     "execution_count": 2,
     "metadata": {},
     "output_type": "execute_result"
    }
   ],
   "source": [
    "a"
   ]
  },
  {
   "cell_type": "code",
   "execution_count": 3,
   "id": "1f2fe709-149c-4144-9167-f2c496e770ff",
   "metadata": {},
   "outputs": [
    {
     "data": {
      "text/plain": [
       "int"
      ]
     },
     "execution_count": 3,
     "metadata": {},
     "output_type": "execute_result"
    }
   ],
   "source": [
    "type(a) "
   ]
  },
  {
   "cell_type": "code",
   "execution_count": 4,
   "id": "35f32e26-c1c3-4e93-808a-3c01ef00437c",
   "metadata": {},
   "outputs": [],
   "source": [
    "b = 'Ankit'"
   ]
  },
  {
   "cell_type": "code",
   "execution_count": 5,
   "id": "2f0b06fd-b382-4400-9413-3fcd5bea521b",
   "metadata": {},
   "outputs": [
    {
     "data": {
      "text/plain": [
       "'Ankit'"
      ]
     },
     "execution_count": 5,
     "metadata": {},
     "output_type": "execute_result"
    }
   ],
   "source": [
    "b"
   ]
  },
  {
   "cell_type": "code",
   "execution_count": 6,
   "id": "a66b7348-07e0-413c-ad64-af74d8a28abe",
   "metadata": {},
   "outputs": [
    {
     "data": {
      "text/plain": [
       "str"
      ]
     },
     "execution_count": 6,
     "metadata": {},
     "output_type": "execute_result"
    }
   ],
   "source": [
    "type(b)"
   ]
  },
  {
   "cell_type": "code",
   "execution_count": 7,
   "id": "f30f8c3b-7a7f-4f6c-8831-d6740df73458",
   "metadata": {},
   "outputs": [],
   "source": [
    "c = 23.32"
   ]
  },
  {
   "cell_type": "code",
   "execution_count": 8,
   "id": "6b65cfa0-462d-4dac-93e6-52e37ee94bc0",
   "metadata": {},
   "outputs": [
    {
     "data": {
      "text/plain": [
       "23.32"
      ]
     },
     "execution_count": 8,
     "metadata": {},
     "output_type": "execute_result"
    }
   ],
   "source": [
    "c"
   ]
  },
  {
   "cell_type": "code",
   "execution_count": 9,
   "id": "e672080f-b00d-44f4-baad-d147625d7fd5",
   "metadata": {},
   "outputs": [
    {
     "data": {
      "text/plain": [
       "float"
      ]
     },
     "execution_count": 9,
     "metadata": {},
     "output_type": "execute_result"
    }
   ],
   "source": [
    "type(c)"
   ]
  },
  {
   "cell_type": "code",
   "execution_count": 10,
   "id": "4faf9b2b-e911-46f5-9c2e-b9e38767b57e",
   "metadata": {},
   "outputs": [],
   "source": [
    "Ankit = 123"
   ]
  },
  {
   "cell_type": "code",
   "execution_count": 11,
   "id": "6d7f7857-3c46-49bd-86dd-db1433804815",
   "metadata": {},
   "outputs": [
    {
     "data": {
      "text/plain": [
       "123"
      ]
     },
     "execution_count": 11,
     "metadata": {},
     "output_type": "execute_result"
    }
   ],
   "source": [
    "Ankit"
   ]
  },
  {
   "cell_type": "code",
   "execution_count": 12,
   "id": "dd4bcfb5-059a-46e8-8240-7274f3b530dc",
   "metadata": {},
   "outputs": [
    {
     "data": {
      "text/plain": [
       "int"
      ]
     },
     "execution_count": 12,
     "metadata": {},
     "output_type": "execute_result"
    }
   ],
   "source": [
    "type(Ankit)"
   ]
  },
  {
   "cell_type": "code",
   "execution_count": 13,
   "id": "a7c58f75-3e97-4531-be8a-6c5f4c144c03",
   "metadata": {},
   "outputs": [],
   "source": [
    "d = True"
   ]
  },
  {
   "cell_type": "code",
   "execution_count": 14,
   "id": "b0c94705-524d-422c-91c6-483157a315d4",
   "metadata": {},
   "outputs": [
    {
     "data": {
      "text/plain": [
       "bool"
      ]
     },
     "execution_count": 14,
     "metadata": {},
     "output_type": "execute_result"
    }
   ],
   "source": [
    "type(d)"
   ]
  },
  {
   "cell_type": "code",
   "execution_count": 15,
   "id": "18ef8dd1-075a-48a2-a78e-897229424352",
   "metadata": {},
   "outputs": [],
   "source": [
    "e = False"
   ]
  },
  {
   "cell_type": "code",
   "execution_count": 17,
   "id": "508436d3-ecdd-4177-a9d0-0cf625235d57",
   "metadata": {},
   "outputs": [
    {
     "data": {
      "text/plain": [
       "bool"
      ]
     },
     "execution_count": 17,
     "metadata": {},
     "output_type": "execute_result"
    }
   ],
   "source": [
    "type(e)"
   ]
  },
  {
   "cell_type": "code",
   "execution_count": 21,
   "id": "bdc0a68f-a976-44bc-829d-48abb6cd46d2",
   "metadata": {},
   "outputs": [],
   "source": [
    "f = 3+4j"
   ]
  },
  {
   "cell_type": "code",
   "execution_count": 22,
   "id": "7c0bf2f4-a5e5-41e6-b51e-bc4215d93198",
   "metadata": {},
   "outputs": [
    {
     "data": {
      "text/plain": [
       "complex"
      ]
     },
     "execution_count": 22,
     "metadata": {},
     "output_type": "execute_result"
    }
   ],
   "source": [
    "type(f)"
   ]
  },
  {
   "cell_type": "code",
   "execution_count": 23,
   "id": "895d388f-7514-4482-a604-a16d7b7dcd51",
   "metadata": {},
   "outputs": [
    {
     "data": {
      "text/plain": [
       "(3+4j)"
      ]
     },
     "execution_count": 23,
     "metadata": {},
     "output_type": "execute_result"
    }
   ],
   "source": [
    "f"
   ]
  },
  {
   "cell_type": "code",
   "execution_count": 26,
   "id": "c9648296-bd43-4aba-a852-9c959ee475ea",
   "metadata": {},
   "outputs": [
    {
     "data": {
      "text/plain": [
       "4.0"
      ]
     },
     "execution_count": 26,
     "metadata": {},
     "output_type": "execute_result"
    }
   ],
   "source": [
    "f.imag"
   ]
  },
  {
   "cell_type": "code",
   "execution_count": 27,
   "id": "a694f2b0-2be2-4e85-afef-f689d8a23d3e",
   "metadata": {},
   "outputs": [
    {
     "data": {
      "text/plain": [
       "3.0"
      ]
     },
     "execution_count": 27,
     "metadata": {},
     "output_type": "execute_result"
    }
   ],
   "source": [
    "f.real"
   ]
  },
  {
   "cell_type": "code",
   "execution_count": 28,
   "id": "2c1dd7ae-c0b3-40df-a930-b469337a4e87",
   "metadata": {},
   "outputs": [
    {
     "data": {
      "text/plain": [
       "1"
      ]
     },
     "execution_count": 28,
     "metadata": {},
     "output_type": "execute_result"
    }
   ],
   "source": [
    "True-False"
   ]
  },
  {
   "cell_type": "code",
   "execution_count": 29,
   "id": "7f5c66bc-ada8-449c-b186-db2498b96e75",
   "metadata": {},
   "outputs": [
    {
     "data": {
      "text/plain": [
       "0"
      ]
     },
     "execution_count": 29,
     "metadata": {},
     "output_type": "execute_result"
    }
   ],
   "source": [
    "True*False"
   ]
  },
  {
   "cell_type": "code",
   "execution_count": 30,
   "id": "feae7b66-782d-450f-8039-d2374083668e",
   "metadata": {},
   "outputs": [
    {
     "ename": "ZeroDivisionError",
     "evalue": "division by zero",
     "output_type": "error",
     "traceback": [
      "\u001b[0;31m---------------------------------------------------------------------------\u001b[0m",
      "\u001b[0;31mZeroDivisionError\u001b[0m                         Traceback (most recent call last)",
      "Cell \u001b[0;32mIn[30], line 1\u001b[0m\n\u001b[0;32m----> 1\u001b[0m \u001b[38;5;28;43;01mTrue\u001b[39;49;00m\u001b[38;5;241;43m/\u001b[39;49m\u001b[38;5;28;43;01mFalse\u001b[39;49;00m\n",
      "\u001b[0;31mZeroDivisionError\u001b[0m: division by zero"
     ]
    }
   ],
   "source": [
    "True/False"
   ]
  },
  {
   "cell_type": "code",
   "execution_count": 31,
   "id": "c8c30c32-fc6e-400a-b1fc-fb7d66fe3db3",
   "metadata": {},
   "outputs": [],
   "source": [
    "g = 4j"
   ]
  },
  {
   "cell_type": "code",
   "execution_count": 32,
   "id": "72593eee-e13f-452e-b1ab-a3335181d250",
   "metadata": {},
   "outputs": [
    {
     "data": {
      "text/plain": [
       "complex"
      ]
     },
     "execution_count": 32,
     "metadata": {},
     "output_type": "execute_result"
    }
   ],
   "source": [
    "type(g)"
   ]
  },
  {
   "cell_type": "code",
   "execution_count": 33,
   "id": "c5e9031b-c65c-427f-97bf-bd69243dccc8",
   "metadata": {},
   "outputs": [
    {
     "ename": "SyntaxError",
     "evalue": "cannot assign to literal here. Maybe you meant '==' instead of '='? (1259054502.py, line 1)",
     "output_type": "error",
     "traceback": [
      "\u001b[0;36m  Cell \u001b[0;32mIn[33], line 1\u001b[0;36m\u001b[0m\n\u001b[0;31m    434 = 32\u001b[0m\n\u001b[0m    ^\u001b[0m\n\u001b[0;31mSyntaxError\u001b[0m\u001b[0;31m:\u001b[0m cannot assign to literal here. Maybe you meant '==' instead of '='?\n"
     ]
    }
   ],
   "source": [
    "434 = 32"
   ]
  },
  {
   "cell_type": "code",
   "execution_count": 34,
   "id": "91431e1e-f575-4bbb-9bd5-1143caeb33bf",
   "metadata": {},
   "outputs": [
    {
     "ename": "SyntaxError",
     "evalue": "invalid decimal literal (1535123160.py, line 1)",
     "output_type": "error",
     "traceback": [
      "\u001b[0;36m  Cell \u001b[0;32mIn[34], line 1\u001b[0;36m\u001b[0m\n\u001b[0;31m    33wef = 3413\u001b[0m\n\u001b[0m     ^\u001b[0m\n\u001b[0;31mSyntaxError\u001b[0m\u001b[0;31m:\u001b[0m invalid decimal literal\n"
     ]
    }
   ],
   "source": [
    "33wef = 3413"
   ]
  },
  {
   "cell_type": "code",
   "execution_count": 35,
   "id": "1b39d08f-f7fd-47cf-ab90-3e0bbebf140b",
   "metadata": {},
   "outputs": [],
   "source": [
    "#23 = 3"
   ]
  },
  {
   "cell_type": "code",
   "execution_count": 36,
   "id": "d8590863-a717-4c67-857b-6275c39eed6f",
   "metadata": {},
   "outputs": [
    {
     "ename": "SyntaxError",
     "evalue": "invalid syntax (4043502286.py, line 1)",
     "output_type": "error",
     "traceback": [
      "\u001b[0;36m  Cell \u001b[0;32mIn[36], line 1\u001b[0;36m\u001b[0m\n\u001b[0;31m    $12 = 312\u001b[0m\n\u001b[0m    ^\u001b[0m\n\u001b[0;31mSyntaxError\u001b[0m\u001b[0;31m:\u001b[0m invalid syntax\n"
     ]
    }
   ],
   "source": [
    "$12 = 312"
   ]
  },
  {
   "cell_type": "code",
   "execution_count": 37,
   "id": "37d93093-1015-4ed9-827e-8a54f7586708",
   "metadata": {},
   "outputs": [],
   "source": [
    "#kfo feokf"
   ]
  },
  {
   "cell_type": "code",
   "execution_count": 38,
   "id": "68868ae1-17f2-4122-89a3-e27200f732b9",
   "metadata": {},
   "outputs": [],
   "source": [
    "_a = 67"
   ]
  },
  {
   "cell_type": "code",
   "execution_count": 39,
   "id": "33ad7d64-f570-45cf-9e6b-f06d1f1bfebc",
   "metadata": {},
   "outputs": [
    {
     "name": "stderr",
     "output_type": "stream",
     "text": [
      "UsageError: Line magic function `%a` not found.\n"
     ]
    }
   ],
   "source": [
    "%a = 43"
   ]
  },
  {
   "cell_type": "code",
   "execution_count": 40,
   "id": "e4615039-dda8-4b6f-8dc4-349b70368ab2",
   "metadata": {},
   "outputs": [
    {
     "data": {
      "text/plain": [
       "67"
      ]
     },
     "execution_count": 40,
     "metadata": {},
     "output_type": "execute_result"
    }
   ],
   "source": [
    "_a"
   ]
  },
  {
   "cell_type": "code",
   "execution_count": null,
   "id": "d8e2268e-dd97-46c8-b922-41bc062d0860",
   "metadata": {},
   "outputs": [],
   "source": []
  }
 ],
 "metadata": {
  "kernelspec": {
   "display_name": "Python 3 (ipykernel)",
   "language": "python",
   "name": "python3"
  },
  "language_info": {
   "codemirror_mode": {
    "name": "ipython",
    "version": 3
   },
   "file_extension": ".py",
   "mimetype": "text/x-python",
   "name": "python",
   "nbconvert_exporter": "python",
   "pygments_lexer": "ipython3",
   "version": "3.10.8"
  }
 },
 "nbformat": 4,
 "nbformat_minor": 5
}
